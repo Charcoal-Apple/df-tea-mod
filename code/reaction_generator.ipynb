{
 "cells": [
  {
   "cell_type": "code",
   "execution_count": 347,
   "metadata": {},
   "outputs": [
    {
     "name": "stdout",
     "output_type": "stream",
     "text": [
      "0\n",
      "WITHERED\n",
      "<re.Match object; span=(0, 12), match='[0_WITHERED]'>\n",
      "None\n",
      "None\n",
      "\n"
     ]
    }
   ],
   "source": [
    "import string\n",
    "import random\n",
    "import re\n",
    "\n",
    "\n",
    "def build_token_str(base, arg):\n",
    "    print('['+base)\n",
    "\n",
    "def struct2token_str():\n",
    "    print('x')\n",
    "    \n",
    "def build_structs_from_chain():\n",
    "    print('y')\n",
    "\n",
    "s = '[0_WITHERED][1_BRUISED][2_WITHERED]'\n",
    "s2 = '[0_WHERED]'\n",
    "s3 = '[1_WITHERED]'\n",
    "s3 = '[3_BRUISED]'\n",
    "\n",
    "\n",
    "getpre_pat = re.compile('\\[(\\d)_WITHERED\\]')\n",
    "gettok_pat = re.compile('\\[\\d_(\\w+)\\]')\n",
    "\n",
    "#res = re.search(rp,s)\n",
    "\n",
    "def getrecap(s,pat):\n",
    "    return pat.match(s).groups()[0]\n",
    "\n",
    "res = gettok_pat.match(s)\n",
    "res2 = pat.match(s2)\n",
    "res3 = pat.match(s3)\n",
    "\n",
    "print(getrecap(s, getpre_pat))\n",
    "print(getrecap(s, gettok_pat))\n",
    "\n",
    "print(res)\n",
    "#print(res2.groups())\n",
    "print(res2)\n",
    "print(res3)\n",
    "\n",
    "\n",
    "\n",
    "print()\n",
    "\n"
   ]
  },
  {
   "cell_type": "code",
   "execution_count": 360,
   "metadata": {},
   "outputs": [
    {
     "name": "stdout",
     "output_type": "stream",
     "text": [
      "[1_WITHERED][0_BRUISED][0_FIXED][1_SHAPED][0_POST_TREATED]\n",
      "[('1', 'WITHERED'), ('0', 'BRUISED'), ('0', 'FIXED'), ('1', 'SHAPED'), ('0', 'POST_TREATED')]\n"
     ]
    }
   ],
   "source": [
    "\"\"\"\n",
    "\n",
    "reaction consists of \n",
    "\n",
    "{'REACTION','NAME','REAGENT','PRODUCT','SKILL'}\n",
    "\n",
    "\"\"\"\n",
    "\n",
    "Stages = ['WITHERED','BRUISED','FIXED','SHAPED','POST_TREATED']\n",
    "stages = {s.lower() for s in Stages}\n",
    "StageMax = [1,2,3,3,2]\n",
    "\n",
    "\n",
    "\n",
    "def list2str(int_list):\n",
    "    return ','.join(map(str,int_list))\n",
    "\n",
    "def classify_tea_type(stage_vec):\n",
    "    s1 = 'green, ' if not stage_vec[0] else 'withered, '\n",
    "    s2 = 'unoxidized, ' if not stage_vec[1] else 'oxidized, '\n",
    "    s3 = 'unfixed ' if not stage_vec[2] else 'fixed '\n",
    "    s4 = 'unshaped ' if not stage_vec[2] else 'shaped '\n",
    "\n",
    "\n",
    "    return(s1+s2+s3+'tea?')\n",
    "    #return(\"??? tea\")\n",
    "\n",
    "def tea_stage_token(stage_vec):\n",
    "    #alltokens_str = [ '['+ for s in stage_vec]\n",
    "    alltokens_str = \"\"\n",
    "    for i in range(len(stage_vec)):\n",
    "        state = stage_vec[i]\n",
    "        token = '[' + str(state) + '_' + Stages[i] + ']'\n",
    "        alltokens_str += token\n",
    "    return alltokens_str\n",
    "\n",
    "\n",
    "def parse_tokens(tokenlist):\n",
    "    token_lists = [ subs+']' for subs in tokenlist.strip(']').split(']')]\n",
    "    return token_lists\n",
    "\n",
    "def strip_token(fulltoken):\n",
    "    gettok_pat = re.compile('\\[\\d_(\\w+)\\]')\n",
    "    tok = getrecap(fulltoken, gettok_pat)\n",
    "    getpre_pat = re.compile('\\[(\\d)_'+tok+'\\]')\n",
    "    pre = getrecap(fulltoken, getpre_pat)\n",
    "    return (pre, tok)\n",
    "\n",
    "def parse_tokenlist(tokenlist):\n",
    "    return [strip_token(sub) for sub in parse_tokens(tok_str)] \n",
    "\n",
    "tok_str = tea_stage_token([1,0,0,1,0])\n",
    "print(tok_str)\n",
    "print(parse_tokenlist(tok_str))\n",
    "\n",
    "def classify_tea(stage_vec):\n",
    "    tea_type_dict = {\n",
    "        \"0,0,1\" : 'green tea',\n",
    "        \"1,0,0\" : 'white tea',\n",
    "        \"1,0,2\" : 'raw fermented tea',\n",
    "        \"1,0,3\" : 'ripe fermented tea',\n",
    "        \"1,1,1\" : 'oolong tea',\n",
    "        \"1,2,0\" : 'red tea'\n",
    "    }\n",
    "    \n",
    "    tea_shape_dict = {\n",
    "        0 :'',\n",
    "        1 :'', #twisted\n",
    "        2 : 'ball-rolled ',\n",
    "        3 : 'cake of '\n",
    "    }\n",
    "    \n",
    "    tea_post_dict = {\n",
    "        0 : '',\n",
    "        1 : 'powdered ',\n",
    "        2 : 'roasted ',\n",
    "        #3 : 'compressed '\n",
    "    }\n",
    "    \n",
    "    shape_key = stage_vec[3]\n",
    "    post_key = stage_vec[4]\n",
    "    type_key = list2str(stage_vec[0:3])\n",
    "    \n",
    "    tea_type = tea_type_dict.get(type_key, classify_tea_type(stage_vec[0:3]))\n",
    "    tea_str = tea_shape_dict[shape_key] + tea_post_dict[post_key] + tea_type\n",
    "    return tea_str\n",
    "\n",
    "def rand_tea():\n",
    "    T = [random.randint(0,r) for r in StageMax]\n",
    "    Tstr = classify_tea(T);\n",
    "    return Tstr"
   ]
  },
  {
   "cell_type": "code",
   "execution_count": 376,
   "metadata": {},
   "outputs": [
    {
     "name": "stdout",
     "output_type": "stream",
     "text": [
      "[0_WITHERED][0_BRUISED][0_FIXED][0_SHAPED][0_POST_TREATED]green, unoxidized, unfixed tea?\n",
      "   green, unoxidized, unfixed tea?\n",
      "\n",
      "[0_WITHERED][0_BRUISED][1_FIXED][0_SHAPED][0_POST_TREATED]green, unoxidized, fixed tea?\n",
      "   green tea\n",
      "\n",
      "[1_WITHERED][0_BRUISED][0_FIXED][0_SHAPED][0_POST_TREATED]withered, unoxidized, unfixed tea?\n",
      "   white tea\n",
      "\n",
      "[0_WITHERED][0_BRUISED][2_FIXED][0_SHAPED][0_POST_TREATED]green, unoxidized, fixed tea?\n",
      "   green, unoxidized, fixed tea?\n",
      "\n",
      "[0_WITHERED][0_BRUISED][3_FIXED][0_SHAPED][0_POST_TREATED]green, unoxidized, fixed tea?\n",
      "   green, unoxidized, fixed tea?\n",
      "\n",
      "[1_WITHERED][1_BRUISED][0_FIXED][0_SHAPED][0_POST_TREATED]withered, oxidized, unfixed tea?\n",
      "   withered, oxidized, unfixed tea?\n",
      "\n",
      "[1_WITHERED][1_BRUISED][1_FIXED][0_SHAPED][0_POST_TREATED]withered, oxidized, fixed tea?\n",
      "   oolong tea\n",
      "\n",
      "[1_WITHERED][2_BRUISED][0_FIXED][0_SHAPED][0_POST_TREATED]withered, oxidized, unfixed tea?\n",
      "   withered, oxidized, unfixed tea?\n",
      "\n",
      "[1_WITHERED][2_BRUISED][1_FIXED][0_SHAPED][0_POST_TREATED]withered, oxidized, fixed tea?\n",
      "   red tea\n",
      "\n"
     ]
    }
   ],
   "source": [
    "Tint = [[0,0,0,0,0], #fresh leave\n",
    "         [0,0,1,0,0], #unshaped green\n",
    "         [1,0,0,0,0], #withered lieaves\n",
    "         [1,0,2,0,0], #raw maocha\n",
    "         [1,0,3,0,0], #rip maocha\n",
    "         [1,1,0,0,0], #pre-oolong\n",
    "         [1,1,1,0,0], #pre-oolong\n",
    "         [1,2,0,0,0], #red\n",
    "\n",
    "for t in Tint:\n",
    "    print(tea_stage_token(t) + classify_tea_type(t) + '\\n   ' +classify_tea(t)+'\\n')"
   ]
  },
  {
   "cell_type": "code",
   "execution_count": 354,
   "metadata": {},
   "outputs": [
    {
     "name": "stdout",
     "output_type": "stream",
     "text": [
      "[0_WITHERED][0_BRUISED][1_FIXED][1_SHAPED][0_POST_TREATED]green tea\n",
      "[0_WITHERED][0_BRUISED][1_FIXED][1_SHAPED][1_POST_TREATED]powdered green tea\n",
      "[1_WITHERED][0_BRUISED][2_FIXED][3_SHAPED][0_POST_TREATED]cake of raw fermented tea\n",
      "[1_WITHERED][0_BRUISED][3_FIXED][3_SHAPED][0_POST_TREATED]cake of ripe fermented tea\n",
      "[1_WITHERED][0_BRUISED][0_FIXED][1_SHAPED][0_POST_TREATED]white tea\n",
      "[1_WITHERED][1_BRUISED][1_FIXED][1_SHAPED][0_POST_TREATED]oolong tea\n",
      "[1_WITHERED][1_BRUISED][1_FIXED][2_SHAPED][0_POST_TREATED]ball-rolled oolong tea\n",
      "[1_WITHERED][1_BRUISED][1_FIXED][1_SHAPED][2_POST_TREATED]roasted oolong tea\n",
      "[1_WITHERED][1_BRUISED][1_FIXED][2_SHAPED][2_POST_TREATED]ball-rolled roasted oolong tea\n",
      "[1_WITHERED][2_BRUISED][1_FIXED][1_SHAPED][0_POST_TREATED]red tea\n"
     ]
    }
   ],
   "source": [
    "T = [[0,0,1,1,0],\n",
    "     [0,0,1,1,1],\n",
    "     \n",
    "     [1,0,2,3,0],  \n",
    "     [1,0,3,3,0],  \n",
    "\n",
    "     [1,0,0,1,0],\n",
    "     [1,1,1,1,0],\n",
    "     [1,1,1,2,0],\n",
    "     [1,1,1,1,2],\n",
    "     [1,1,1,2,2],\n",
    "     \n",
    "     [1,2,0,1,0]]\n",
    "\n",
    "for t in T:\n",
    "    print(tea_stage_token(t) + classify_tea(t))\n",
    "    \n",
    "#[classify_tea(t) for t in T]"
   ]
  },
  {
   "cell_type": "code",
   "execution_count": 252,
   "metadata": {},
   "outputs": [
    {
     "name": "stdout",
     "output_type": "stream",
     "text": [
      "powdered red tea\n",
      "powdered raw fermented tea\n",
      "ball-rolled roasted raw fermented tea\n",
      "ball-rolled roasted ripe fermented tea\n",
      "powdered white tea\n",
      "green tea\n",
      "roasted raw fermented tea\n",
      "raw fermented tea\n",
      "cake of roasted white tea\n",
      "powdered white tea\n",
      "ball-rolled red tea\n",
      "red tea\n",
      "white tea\n",
      "powdered raw fermented tea\n",
      "cake of powdered raw fermented tea\n",
      "ball-rolled roasted raw fermented tea\n",
      "cake of powdered red tea\n",
      "cake of ripe fermented tea\n",
      "powdered oolong tea\n",
      "roasted ripe fermented tea\n",
      "cake of powdered oolong tea\n",
      "powdered green tea\n",
      "cake of roasted white tea\n",
      "powdered green tea\n",
      "cake of powdered red tea\n",
      "ball-rolled roasted raw fermented tea\n",
      "ball-rolled roasted ripe fermented tea\n",
      "cake of roasted white tea\n",
      "powdered oolong tea\n"
     ]
    }
   ],
   "source": [
    "for i in range(100):\n",
    "    t = rand_tea()\n",
    "    if not \"?\" in t:\n",
    "        print(t)\n"
   ]
  },
  {
   "cell_type": "code",
   "execution_count": 283,
   "metadata": {},
   "outputs": [
    {
     "data": {
      "text/plain": [
       "['[0', ']']"
      ]
     },
     "execution_count": 283,
     "metadata": {},
     "output_type": "execute_result"
    }
   ],
   "source": [
    "T = '[0_WITHERED]'\n",
    "\n",
    "\n",
    "T.split('_WITHERED')\n"
   ]
  },
  {
   "cell_type": "code",
   "execution_count": null,
   "metadata": {},
   "outputs": [],
   "source": []
  }
 ],
 "metadata": {
  "kernelspec": {
   "display_name": "Python 3",
   "language": "python",
   "name": "python3"
  },
  "language_info": {
   "codemirror_mode": {
    "name": "ipython",
    "version": 3
   },
   "file_extension": ".py",
   "mimetype": "text/x-python",
   "name": "python",
   "nbconvert_exporter": "python",
   "pygments_lexer": "ipython3",
   "version": "3.7.6"
  }
 },
 "nbformat": 4,
 "nbformat_minor": 4
}

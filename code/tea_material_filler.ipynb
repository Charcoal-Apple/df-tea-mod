{
 "cells": [
  {
   "cell_type": "code",
   "execution_count": 1,
   "metadata": {},
   "outputs": [
    {
     "data": {
      "text/plain": [
       "\"\\nwant to specify intermediate tea materials as concisely as possible in text file\\nthen have a python script expand, fill in duplicate text\\n\\n\\nmight involve essentially duplicate reactions?\\n\\nwhat about something which takes a set of possible vectors\\n\\n'green':{1,0,0,0,0}\\n'oolong':{1,1,1,0,0}\\n\\nand produces entire material template file?\\n\\n\""
      ]
     },
     "execution_count": 1,
     "metadata": {},
     "output_type": "execute_result"
    }
   ],
   "source": [
    "import string\n",
    "\n",
    "def str_between(s, s_pre, s_post):\n",
    "    return s.split(s_pre)[1].split(s_post)[0]\n",
    "\n",
    "#'probably doens't work for multiple matches :/\n",
    "#'https://stackoverflow.com/questions/3368969/find-string-between-two-substrings'\n",
    "\"\"\"\n",
    "want to specify intermediate tea materials as concisely as possible in text file\n",
    "then have a python script expand, fill in duplicate text\n",
    "\n",
    "\n",
    "might involve essentially duplicate reactions?\n",
    "\n",
    "what about something which takes a set of possible vectors\n",
    "\n",
    "'green':{1,0,0,0,0}\n",
    "'oolong':{1,1,1,0,0}\n",
    "\n",
    "and produces entire material template file?\n",
    "\n",
    "\"\"\""
   ]
  },
  {
   "cell_type": "code",
   "execution_count": 18,
   "metadata": {},
   "outputs": [
    {
     "name": "stdout",
     "output_type": "stream",
     "text": [
      "\n",
      "[ABC]\n",
      "[123]{mrp:witherable}\n",
      "[QVC]\n",
      "\n",
      "mrp\n",
      "witherable\n"
     ]
    }
   ],
   "source": [
    "txt = \"\"\"\n",
    "[ABC]\n",
    "[123]{mrp:witherable}\n",
    "[QVC]\n",
    "\"\"\"\n",
    "print(txt)\n",
    "\n",
    "\n"
   ]
  },
  {
   "cell_type": "code",
   "execution_count": 26,
   "metadata": {},
   "outputs": [],
   "source": [
    "mrp = '[HAS_MATERIAL_REACTION_PRODUCT:'\n",
    "hmrp = '[HAS_MATERIAL_REACTION_PRODUCT:'\n",
    "suf = '_MAT]'\n",
    "aliases = { 'hmrp':'[HAS_MATERIAL_REACTION_PRODUCT:',\n",
    "            'mrp':'[MATERIAL_REACTION_PRODUCT:',\n",
    "           'MRP':'[MATERIAL_REACTION_PRODUCT:',\n",
    "            'witherable': 'WITHERED_LEAF',\n",
    "           'bruisable':'BRUISED_LEAF',\n",
    "          'heavy_bruisable':'HEAVILY_BRUISED_LEAF',\n",
    "            'fixable':'FIXED_LEAF',\n",
    "          'fermentable':'FERMENTED_LEAF',\n",
    "           'shapeable':'TWISTED_TEA',\n",
    "           'ballable':'ROLLED_TEA',\n",
    "           'rollable':'ROLLED_TEA',\n",
    "          'cakeable':'CAKE_TEA',\n",
    "           'roastable':'ROASTED_TEA',\n",
    "           'brewable':'BREWED_TEA'\n",
    "          }"
   ]
  },
  {
   "cell_type": "code",
   "execution_count": 27,
   "metadata": {},
   "outputs": [
    {
     "data": {
      "text/plain": [
       "'[HAS_MATERIAL_REACTION_PRODUCT:WITHERED_LEAF_MAT]'"
      ]
     },
     "execution_count": 27,
     "metadata": {},
     "output_type": "execute_result"
    }
   ],
   "source": [
    "hmrp+aliases['witherable']+suf"
   ]
  },
  {
   "cell_type": "code",
   "execution_count": 29,
   "metadata": {},
   "outputs": [
    {
     "name": "stdout",
     "output_type": "stream",
     "text": [
      "[MATERIAL_REACTION_PRODUCT:WITHERED_LEAF_MAT]\n"
     ]
    }
   ],
   "source": [
    "newstr = aliases[str_between(txt,'{',':')] + aliases[str_between(txt,':','}')] + suf\n",
    "print(newstr)\n",
    "\n",
    "\n"
   ]
  },
  {
   "cell_type": "code",
   "execution_count": null,
   "metadata": {},
   "outputs": [],
   "source": []
  },
  {
   "cell_type": "code",
   "execution_count": 7,
   "metadata": {},
   "outputs": [
    {
     "data": {
      "text/plain": [
       "10060"
      ]
     },
     "execution_count": 7,
     "metadata": {},
     "output_type": "execute_result"
    }
   ],
   "source": [
    "\n",
    "\n"
   ]
  },
  {
   "cell_type": "code",
   "execution_count": 10,
   "metadata": {},
   "outputs": [],
   "source": [
    "def generate_expanded_raw_file(alias_fname, generator_fname,raw_type_str='BUILDING'):\n",
    "    alias_file = open(alias_fname,\"r\")\n",
    "    alias_str = alias_file.read()\n",
    "     \n",
    "    #currently, only probablt works for one KEY\n",
    "    akey = str_between(alias_str,'<KEY>','<END_KEY>')\n",
    "    arep = str_between(alias_str,'<REPLACE_WITH>','<END_REPLACE_WITH>')\n",
    "     \n",
    "    gen_file = open(generator_fname,\"r\")\n",
    "    gen_str = gen_file.read()\n",
    "     \n",
    "    object_str = 'OBJECT:'+raw_type_str\n",
    "    \n",
    "    out_str = gen_str.replace(akey,arep)\n",
    "    out_str = out_str.replace('GENERATOR','') #remove header name thing\n",
    "    out_str = out_str.replace('||'+object_str+'||','['+object_str+']')\n",
    "     \n",
    "    out_fname = generator_fname.replace('GENERATOR','')\n",
    "    out_file = open(out_fname,\"w\")\n",
    "    out_file.write(out_str)\n",
    "    "
   ]
  },
  {
   "cell_type": "code",
   "execution_count": 11,
   "metadata": {},
   "outputs": [],
   "source": [
    "generate_expanded_raw_file('../PyDwarf/scripts/charcoalapple/raw_aliases/aliases_buildings.txt',\n",
    "                           '../PyDwarf/scripts/charcoalapple/raw/tea/buildingGENERATOR_processtea.txt')"
   ]
  },
  {
   "cell_type": "code",
   "execution_count": 14,
   "metadata": {},
   "outputs": [],
   "source": [
    "#generate_expanded_raw_file('../PyDwarf/scripts/charcoalapple/raw_aliases/aliases_material.txt',\n",
    "#                           '../PyDwarf/scripts/charcoalapple/raw/tea/materialGENERATOR_template_teatime.txt',\n",
    "#                          'MATERIAL_TEMPLATE')"
   ]
  },
  {
   "cell_type": "code",
   "execution_count": null,
   "metadata": {},
   "outputs": [],
   "source": []
  }
 ],
 "metadata": {
  "kernelspec": {
   "display_name": "Python 3",
   "language": "python",
   "name": "python3"
  },
  "language_info": {
   "codemirror_mode": {
    "name": "ipython",
    "version": 3
   },
   "file_extension": ".py",
   "mimetype": "text/x-python",
   "name": "python",
   "nbconvert_exporter": "python",
   "pygments_lexer": "ipython3",
   "version": "3.7.6"
  }
 },
 "nbformat": 4,
 "nbformat_minor": 4
}
